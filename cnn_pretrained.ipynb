{
 "cells": [
  {
   "cell_type": "code",
   "execution_count": 6,
   "metadata": {},
   "outputs": [],
   "source": [
    "import cv2\n",
    "import numpy as np\n",
    "from matplotlib import pyplot as plt\n",
    "from keras.optimizers import SGD, RMSprop, Adam, Adagrad, Adadelta\n",
    "import itertools\n",
    "import pandas as pd\n",
    "from keras.preprocessing.image import ImageDataGenerator"
   ]
  },
  {
   "cell_type": "code",
   "execution_count": 7,
   "metadata": {},
   "outputs": [
    {
     "name": "stdout",
     "output_type": "stream",
     "text": [
      "D:\\rib resize\\0.png\n",
      "(100, 100, 3)\n",
      "D:\\rib resize\\1.png\n",
      "(100, 100, 3)\n",
      "D:\\rib resize\\2.png\n",
      "(100, 100, 3)\n",
      "D:\\rib resize\\3.png\n",
      "(100, 100, 3)\n",
      "D:\\rib resize\\4.png\n",
      "(100, 100, 3)\n",
      "D:\\rib resize\\5.png\n",
      "(100, 100, 3)\n",
      "D:\\rib resize\\6.png\n",
      "(100, 100, 3)\n",
      "D:\\rib resize\\7.png\n",
      "(100, 100, 3)\n",
      "D:\\rib resize\\8.png\n",
      "(100, 100, 3)\n",
      "D:\\rib resize\\9.png\n",
      "(100, 100, 3)\n",
      "D:\\rib resize\\10.png\n",
      "(100, 100, 3)\n",
      "D:\\rib resize\\11.png\n",
      "(100, 100, 3)\n",
      "D:\\rib resize\\12.png\n",
      "(100, 100, 3)\n",
      "D:\\rib resize\\13.png\n",
      "(100, 100, 3)\n",
      "D:\\rib resize\\14.png\n",
      "(100, 100, 3)\n",
      "D:\\rib resize\\15.png\n",
      "(100, 100, 3)\n",
      "D:\\rib resize\\16.png\n",
      "(100, 100, 3)\n",
      "D:\\rib resize\\17.png\n",
      "(100, 100, 3)\n",
      "D:\\rib resize\\18.png\n",
      "(100, 100, 3)\n",
      "D:\\rib resize\\19.png\n",
      "(100, 100, 3)\n",
      "D:\\rib resize\\20.png\n",
      "(100, 100, 3)\n",
      "D:\\rib resize\\21.png\n",
      "(100, 100, 3)\n",
      "D:\\rib resize\\22.png\n",
      "(100, 100, 3)\n",
      "D:\\rib resize\\23.png\n",
      "(100, 100, 3)\n",
      "D:\\rib resize\\24.png\n",
      "(100, 100, 3)\n",
      "D:\\rib resize\\25.png\n",
      "(100, 100, 3)\n",
      "D:\\rib resize\\26.png\n",
      "(100, 100, 3)\n",
      "D:\\rib resize\\27.png\n",
      "(100, 100, 3)\n",
      "D:\\rib resize\\28.png\n",
      "(100, 100, 3)\n",
      "D:\\rib resize\\29.png\n",
      "(100, 100, 3)\n",
      "D:\\rib resize\\30.png\n",
      "(100, 100, 3)\n",
      "D:\\rib resize\\31.png\n",
      "(100, 100, 3)\n",
      "D:\\rib resize\\32.png\n",
      "(100, 100, 3)\n",
      "D:\\rib resize\\33.png\n",
      "(100, 100, 3)\n",
      "D:\\rib resize\\34.png\n",
      "(100, 100, 3)\n",
      "D:\\rib resize\\35.png\n",
      "(100, 100, 3)\n",
      "D:\\rib resize\\36.png\n",
      "(100, 100, 3)\n",
      "D:\\rib resize\\37.png\n",
      "(100, 100, 3)\n",
      "D:\\rib resize\\38.png\n",
      "(100, 100, 3)\n",
      "D:\\rib resize\\39.png\n",
      "(100, 100, 3)\n",
      "D:\\rib resize\\40.png\n",
      "(100, 100, 3)\n",
      "D:\\rib resize\\41.png\n",
      "(100, 100, 3)\n",
      "D:\\rib resize\\42.png\n",
      "(100, 100, 3)\n",
      "D:\\rib resize\\43.png\n",
      "(100, 100, 3)\n",
      "D:\\rib resize\\44.png\n",
      "(100, 100, 3)\n",
      "D:\\rib resize\\45.png\n",
      "(100, 100, 3)\n",
      "D:\\rib resize\\46.png\n",
      "(100, 100, 3)\n",
      "D:\\rib resize\\47.png\n",
      "(100, 100, 3)\n",
      "D:\\rib resize\\48.png\n",
      "(100, 100, 3)\n",
      "D:\\rib resize\\49.png\n",
      "(100, 100, 3)\n",
      "D:\\rib resize\\50.png\n",
      "(100, 100, 3)\n",
      "D:\\rib resize\\51.png\n",
      "(100, 100, 3)\n",
      "D:\\rib resize\\52.png\n",
      "(100, 100, 3)\n",
      "D:\\rib resize\\53.png\n",
      "(100, 100, 3)\n",
      "D:\\rib resize\\54.png\n",
      "(100, 100, 3)\n",
      "D:\\rib resize\\55.png\n",
      "(100, 100, 3)\n",
      "D:\\rib resize\\56.png\n",
      "(100, 100, 3)\n",
      "D:\\rib resize\\57.png\n",
      "(100, 100, 3)\n",
      "D:\\rib resize\\58.png\n",
      "(100, 100, 3)\n",
      "D:\\rib resize\\59.png\n",
      "(100, 100, 3)\n",
      "D:\\rib resize\\60.png\n",
      "(100, 100, 3)\n",
      "D:\\rib resize\\61.png\n",
      "(100, 100, 3)\n",
      "D:\\rib resize\\62.png\n",
      "(100, 100, 3)\n",
      "D:\\rib resize\\63.png\n",
      "(100, 100, 3)\n",
      "D:\\rib resize\\64.png\n",
      "(100, 100, 3)\n",
      "D:\\rib resize\\65.png\n",
      "(100, 100, 3)\n",
      "D:\\rib resize\\66.png\n",
      "(100, 100, 3)\n",
      "D:\\rib resize\\67.png\n",
      "(100, 100, 3)\n",
      "D:\\rib resize\\68.png\n",
      "(100, 100, 3)\n",
      "D:\\rib resize\\69.png\n",
      "(100, 100, 3)\n",
      "D:\\rib resize\\70.png\n",
      "(100, 100, 3)\n",
      "D:\\rib resize\\71.png\n",
      "(100, 100, 3)\n",
      "D:\\rib resize\\72.png\n",
      "(100, 100, 3)\n",
      "D:\\rib resize\\73.png\n",
      "(100, 100, 3)\n",
      "D:\\rib resize\\74.png\n",
      "(100, 100, 3)\n",
      "D:\\rib resize\\75.png\n",
      "(100, 100, 3)\n",
      "D:\\rib resize\\76.png\n",
      "(100, 100, 3)\n",
      "D:\\rib resize\\77.png\n",
      "(100, 100, 3)\n",
      "D:\\rib resize\\78.png\n",
      "(100, 100, 3)\n",
      "D:\\rib resize\\79.png\n",
      "(100, 100, 3)\n",
      "D:\\rib resize\\80.png\n",
      "(100, 100, 3)\n",
      "D:\\rib resize\\81.png\n",
      "(100, 100, 3)\n",
      "D:\\rib resize\\82.png\n",
      "(100, 100, 3)\n",
      "D:\\rib resize\\83.png\n",
      "(100, 100, 3)\n",
      "D:\\rib resize\\84.png\n",
      "(100, 100, 3)\n",
      "D:\\rib resize\\85.png\n",
      "(100, 100, 3)\n",
      "D:\\rib resize\\86.png\n",
      "(100, 100, 3)\n",
      "D:\\rib resize\\87.png\n",
      "(100, 100, 3)\n",
      "D:\\rib resize\\88.png\n",
      "(100, 100, 3)\n",
      "D:\\rib resize\\89.png\n",
      "(100, 100, 3)\n",
      "D:\\rib resize\\90.png\n",
      "(100, 100, 3)\n",
      "D:\\rib resize\\91.png\n",
      "(100, 100, 3)\n",
      "D:\\rib resize\\92.png\n",
      "(100, 100, 3)\n",
      "D:\\rib resize\\93.png\n",
      "(100, 100, 3)\n",
      "D:\\rib resize\\94.png\n",
      "(100, 100, 3)\n",
      "D:\\rib resize\\95.png\n",
      "(100, 100, 3)\n",
      "D:\\rib resize\\96.png\n",
      "(100, 100, 3)\n",
      "D:\\rib resize\\97.png\n",
      "(100, 100, 3)\n",
      "D:\\rib resize\\98.png\n",
      "(100, 100, 3)\n",
      "D:\\rib resize\\99.png\n",
      "(100, 100, 3)\n",
      "D:\\rib resize\\100.png\n",
      "(100, 100, 3)\n",
      "D:\\rib resize\\101.png\n",
      "(100, 100, 3)\n",
      "D:\\rib resize\\102.png\n",
      "(100, 100, 3)\n",
      "D:\\rib resize\\103.png\n",
      "(100, 100, 3)\n",
      "D:\\rib resize\\104.png\n",
      "(100, 100, 3)\n",
      "D:\\rib resize\\105.png\n",
      "(100, 100, 3)\n",
      "D:\\rib resize\\106.png\n",
      "(100, 100, 3)\n",
      "D:\\rib resize\\107.png\n",
      "(100, 100, 3)\n",
      "D:\\rib resize\\108.png\n",
      "(100, 100, 3)\n",
      "D:\\rib resize\\109.png\n",
      "(100, 100, 3)\n",
      "D:\\rib resize\\110.png\n",
      "(100, 100, 3)\n",
      "D:\\rib resize\\111.png\n",
      "(100, 100, 3)\n",
      "D:\\rib resize\\112.png\n",
      "(100, 100, 3)\n",
      "D:\\rib resize\\113.png\n",
      "(100, 100, 3)\n",
      "D:\\rib resize\\114.png\n",
      "(100, 100, 3)\n",
      "D:\\rib resize\\115.png\n",
      "(100, 100, 3)\n",
      "D:\\rib resize\\116.png\n",
      "(100, 100, 3)\n",
      "D:\\rib resize\\117.png\n",
      "(100, 100, 3)\n",
      "D:\\rib resize\\118.png\n",
      "(100, 100, 3)\n",
      "D:\\rib resize\\119.png\n",
      "(100, 100, 3)\n",
      "D:\\rib resize\\120.png\n",
      "(100, 100, 3)\n",
      "D:\\rib resize\\121.png\n",
      "(100, 100, 3)\n",
      "D:\\rib resize\\122.png\n",
      "(100, 100, 3)\n",
      "D:\\rib resize\\123.png\n",
      "(100, 100, 3)\n",
      "D:\\rib resize\\124.png\n",
      "(100, 100, 3)\n",
      "D:\\rib resize\\125.png\n",
      "(100, 100, 3)\n",
      "D:\\rib resize\\126.png\n",
      "(100, 100, 3)\n",
      "D:\\rib resize\\127.png\n",
      "(100, 100, 3)\n",
      "D:\\rib resize\\128.png\n",
      "(100, 100, 3)\n",
      "D:\\rib resize\\129.png\n",
      "(100, 100, 3)\n",
      "D:\\rib resize\\130.png\n",
      "(100, 100, 3)\n",
      "D:\\rib resize\\131.png\n",
      "(100, 100, 3)\n",
      "D:\\rib resize\\132.png\n",
      "(100, 100, 3)\n",
      "D:\\rib resize\\133.png\n",
      "(100, 100, 3)\n",
      "D:\\rib resize\\134.png\n",
      "(100, 100, 3)\n",
      "D:\\rib resize\\135.png\n",
      "(100, 100, 3)\n",
      "D:\\rib resize\\136.png\n",
      "(100, 100, 3)\n",
      "D:\\rib resize\\137.png\n",
      "(100, 100, 3)\n",
      "D:\\rib resize\\138.png\n",
      "(100, 100, 3)\n",
      "D:\\rib resize\\139.png\n",
      "(100, 100, 3)\n",
      "D:\\rib resize\\140.png\n",
      "(100, 100, 3)\n",
      "D:\\rib resize\\141.png\n",
      "(100, 100, 3)\n",
      "D:\\rib resize\\142.png\n",
      "(100, 100, 3)\n",
      "D:\\rib resize\\143.png\n",
      "(100, 100, 3)\n",
      "D:\\rib resize\\144.png\n",
      "(100, 100, 3)\n",
      "D:\\rib resize\\145.png\n",
      "(100, 100, 3)\n",
      "D:\\rib resize\\146.png\n",
      "(100, 100, 3)\n",
      "D:\\rib resize\\147.png\n",
      "(100, 100, 3)\n",
      "D:\\rib resize\\148.png\n",
      "(100, 100, 3)\n",
      "D:\\rib resize\\149.png\n",
      "(100, 100, 3)\n",
      "D:\\rib resize\\150.png\n",
      "(100, 100, 3)\n",
      "D:\\rib resize\\151.png\n",
      "(100, 100, 3)\n",
      "D:\\rib resize\\152.png\n",
      "(100, 100, 3)\n",
      "D:\\rib resize\\153.png\n",
      "(100, 100, 3)\n",
      "D:\\rib resize\\154.png\n",
      "(100, 100, 3)\n",
      "D:\\rib resize\\155.png\n",
      "(100, 100, 3)\n",
      "D:\\rib resize\\156.png\n",
      "(100, 100, 3)\n",
      "D:\\rib resize\\157.png\n",
      "(100, 100, 3)\n",
      "D:\\rib resize\\158.png\n",
      "(100, 100, 3)\n",
      "D:\\rib resize\\159.png\n",
      "(100, 100, 3)\n",
      "D:\\rib resize\\160.png\n",
      "(100, 100, 3)\n",
      "D:\\rib resize\\161.png\n",
      "(100, 100, 3)\n",
      "D:\\rib resize\\162.png\n",
      "(100, 100, 3)\n",
      "D:\\rib resize\\163.png\n",
      "(100, 100, 3)\n",
      "D:\\rib resize\\164.png\n",
      "(100, 100, 3)\n",
      "D:\\rib resize\\165.png\n",
      "(100, 100, 3)\n",
      "D:\\rib resize\\166.png\n",
      "(100, 100, 3)\n",
      "D:\\rib resize\\167.png\n",
      "(100, 100, 3)\n",
      "D:\\rib resize\\168.png\n",
      "(100, 100, 3)\n",
      "D:\\rib resize\\169.png\n",
      "(100, 100, 3)\n",
      "D:\\rib resize\\170.png\n",
      "(100, 100, 3)\n",
      "D:\\rib resize\\171.png\n",
      "(100, 100, 3)\n",
      "D:\\rib resize\\172.png\n",
      "(100, 100, 3)\n",
      "D:\\rib resize\\173.png\n",
      "(100, 100, 3)\n",
      "D:\\rib resize\\174.png\n",
      "(100, 100, 3)\n",
      "D:\\rib resize\\175.png\n",
      "(100, 100, 3)\n",
      "D:\\rib resize\\176.png\n",
      "(100, 100, 3)\n",
      "D:\\rib resize\\177.png\n",
      "(100, 100, 3)\n",
      "D:\\rib resize\\178.png\n",
      "(100, 100, 3)\n",
      "D:\\rib resize\\179.png\n",
      "(100, 100, 3)\n",
      "D:\\rib resize\\180.png\n",
      "(100, 100, 3)\n",
      "D:\\rib resize\\181.png\n",
      "(100, 100, 3)\n",
      "D:\\rib resize\\182.png\n",
      "(100, 100, 3)\n",
      "D:\\rib resize\\183.png\n",
      "(100, 100, 3)\n",
      "D:\\rib resize\\184.png\n",
      "(100, 100, 3)\n",
      "D:\\rib resize\\185.png\n",
      "(100, 100, 3)\n",
      "D:\\rib resize\\186.png\n",
      "(100, 100, 3)\n",
      "D:\\rib resize\\187.png\n",
      "(100, 100, 3)\n",
      "D:\\rib resize\\188.png\n",
      "(100, 100, 3)\n",
      "D:\\rib resize\\189.png\n",
      "(100, 100, 3)\n",
      "D:\\rib resize\\190.png\n",
      "(100, 100, 3)\n",
      "D:\\rib resize\\191.png\n",
      "(100, 100, 3)\n",
      "D:\\rib resize\\192.png\n",
      "(100, 100, 3)\n",
      "D:\\rib resize\\193.png\n",
      "(100, 100, 3)\n",
      "D:\\rib resize\\194.png\n",
      "(100, 100, 3)\n",
      "D:\\rib resize\\195.png\n",
      "(100, 100, 3)\n",
      "D:\\rib resize\\196.png\n",
      "(100, 100, 3)\n",
      "D:\\rib resize\\197.png\n",
      "(100, 100, 3)\n",
      "D:\\rib resize\\198.png\n",
      "(100, 100, 3)\n",
      "D:\\rib resize\\199.png\n",
      "(100, 100, 3)\n",
      "D:\\rib resize\\200.png\n",
      "(100, 100, 3)\n",
      "D:\\rib resize\\201.png\n",
      "(100, 100, 3)\n",
      "D:\\rib resize\\202.png\n",
      "(100, 100, 3)\n",
      "D:\\rib resize\\203.png\n",
      "(100, 100, 3)\n",
      "D:\\rib resize\\204.png\n",
      "(100, 100, 3)\n",
      "D:\\rib resize\\205.png\n",
      "(100, 100, 3)\n",
      "D:\\rib resize\\206.png\n",
      "(100, 100, 3)\n",
      "D:\\rib resize\\207.png\n",
      "(100, 100, 3)\n",
      "D:\\rib resize\\208.png\n",
      "(100, 100, 3)\n",
      "D:\\rib resize\\209.png\n",
      "(100, 100, 3)\n",
      "D:\\rib resize\\210.png\n",
      "(100, 100, 3)\n",
      "D:\\rib resize\\211.png\n",
      "(100, 100, 3)\n",
      "D:\\rib resize\\212.png\n",
      "(100, 100, 3)\n",
      "D:\\rib resize\\213.png\n",
      "(100, 100, 3)\n",
      "D:\\rib resize\\214.png\n",
      "(100, 100, 3)\n",
      "D:\\rib resize\\215.png\n",
      "(100, 100, 3)\n",
      "D:\\rib resize\\216.png\n",
      "(100, 100, 3)\n",
      "D:\\rib resize\\217.png\n",
      "(100, 100, 3)\n",
      "D:\\rib resize\\218.png\n",
      "(100, 100, 3)\n",
      "D:\\rib resize\\219.png\n",
      "(100, 100, 3)\n",
      "D:\\rib resize\\220.png\n",
      "(100, 100, 3)\n",
      "D:\\rib resize\\221.png\n",
      "(100, 100, 3)\n",
      "D:\\rib resize\\222.png\n",
      "(100, 100, 3)\n",
      "D:\\rib resize\\223.png\n",
      "(100, 100, 3)\n",
      "D:\\rib resize\\224.png\n",
      "(100, 100, 3)\n",
      "D:\\rib resize\\225.png\n",
      "(100, 100, 3)\n",
      "D:\\rib resize\\226.png\n",
      "(100, 100, 3)\n",
      "D:\\rib resize\\227.png\n",
      "(100, 100, 3)\n",
      "D:\\rib resize\\228.png\n",
      "(100, 100, 3)\n",
      "D:\\rib resize\\229.png\n",
      "(100, 100, 3)\n",
      "D:\\rib resize\\230.png\n",
      "(100, 100, 3)\n",
      "D:\\rib resize\\231.png\n",
      "(100, 100, 3)\n",
      "D:\\rib resize\\232.png\n",
      "(100, 100, 3)\n",
      "D:\\rib resize\\233.png\n",
      "(100, 100, 3)\n",
      "D:\\rib resize\\234.png\n",
      "(100, 100, 3)\n",
      "D:\\rib resize\\235.png\n",
      "(100, 100, 3)\n",
      "D:\\rib resize\\236.png\n",
      "(100, 100, 3)\n",
      "D:\\rib resize\\237.png\n",
      "(100, 100, 3)\n",
      "D:\\rib resize\\238.png\n",
      "(100, 100, 3)\n",
      "D:\\rib resize\\239.png\n",
      "(100, 100, 3)\n",
      "D:\\rib resize\\240.png\n",
      "(100, 100, 3)\n",
      "D:\\rib resize\\241.png\n",
      "(100, 100, 3)\n",
      "D:\\rib resize\\242.png\n",
      "(100, 100, 3)\n",
      "D:\\rib resize\\243.png\n",
      "(100, 100, 3)\n",
      "D:\\rib resize\\244.png\n",
      "(100, 100, 3)\n",
      "D:\\rib resize\\245.png\n",
      "(100, 100, 3)\n"
     ]
    }
   ],
   "source": [
    "\n",
    "path='D:\\\\rib resize\\\\'\n",
    "images=[]\n",
    "for i in range(246):\n",
    "    name=path+str(i)+\".png\"\n",
    "    print(name)\n",
    "    im=cv2.imread(name)\n",
    "    print(im.shape)\n",
    "    images.append(im)"
   ]
  },
  {
   "cell_type": "code",
   "execution_count": null,
   "metadata": {},
   "outputs": [],
   "source": []
  },
  {
   "cell_type": "code",
   "execution_count": 8,
   "metadata": {},
   "outputs": [
    {
     "name": "stdout",
     "output_type": "stream",
     "text": [
      "<class 'list'>\n"
     ]
    }
   ],
   "source": [
    "print(type(images))"
   ]
  },
  {
   "cell_type": "code",
   "execution_count": 9,
   "metadata": {},
   "outputs": [],
   "source": [
    "labels = []\n",
    "for i in range(154):\n",
    "    labels.append(1)\n",
    "for i in range(92):\n",
    "    labels.append(0)"
   ]
  },
  {
   "cell_type": "code",
   "execution_count": 10,
   "metadata": {},
   "outputs": [],
   "source": [
    "len(labels)\n",
    "labels = np.array(labels)"
   ]
  },
  {
   "cell_type": "code",
   "execution_count": 11,
   "metadata": {},
   "outputs": [],
   "source": [
    "df = pd.DataFrame({'image': list(images), 'target': labels}, columns=['image', 'target'])"
   ]
  },
  {
   "cell_type": "code",
   "execution_count": 12,
   "metadata": {},
   "outputs": [
    {
     "name": "stdout",
     "output_type": "stream",
     "text": [
      "Class 0: 92\n",
      "Class 1: 154\n",
      "Proportion: 0.6 : 1\n"
     ]
    },
    {
     "data": {
      "image/png": "[encoded data removed]",
      "text/plain": [
       "<Figure size 432x288 with 1 Axes>"
      ]
     },
     "metadata": {
      "needs_background": "light"
     },
     "output_type": "display_data"
    }
   ],
   "source": [
    "target_count = df.target.value_counts()\n",
    "print('Class 0:', target_count[0])\n",
    "print('Class 1:', target_count[1])\n",
    "print('Proportion:', round(target_count[0] / target_count[1], 2), ': 1')\n",
    "\n",
    "target_count.plot(kind='bar', title='Count (target)');"
   ]
  },
  {
   "cell_type": "code",
   "execution_count": 13,
   "metadata": {},
   "outputs": [],
   "source": [
    "# Class count\n",
    "count_class_0, count_class_1 = 92,154\n",
    "\n",
    "# Divide by class\n",
    "df_class_0 = df[df['target'] == 0]\n",
    "df_class_1 = df[df['target'] == 1]"
   ]
  },
  {
   "cell_type": "code",
   "execution_count": 14,
   "metadata": {},
   "outputs": [
    {
     "name": "stdout",
     "output_type": "stream",
     "text": [
      "Random over-sampling:\n",
      "1    154\n",
      "0    154\n",
      "Name: target, dtype: int64\n"
     ]
    },
    {
     "data": {
      "image/png": "[encoded data removed]",
      "text/plain": [
       "<Figure size 432x288 with 1 Axes>"
      ]
     },
     "metadata": {
      "needs_background": "light"
     },
     "output_type": "display_data"
    }
   ],
   "source": [
    "df_class_0_over = df_class_0.sample(count_class_1, replace=True)\n",
    "df_test_over = pd.concat([df_class_0_over, df_class_1], axis=0)\n",
    "\n",
    "print('Random over-sampling:')\n",
    "print(df_test_over.target.value_counts())\n",
    "\n",
    "df_test_over.target.value_counts().plot(kind='bar', title='Count (target)');"
   ]
  },
  {
   "cell_type": "code",
   "execution_count": 15,
   "metadata": {},
   "outputs": [],
   "source": [
    "x = df_test_over['image'].values\n"
   ]
  },
  {
   "cell_type": "code",
   "execution_count": 16,
   "metadata": {},
   "outputs": [
    {
     "data": {
      "text/plain": [
       "(308,)"
      ]
     },
     "execution_count": 16,
     "metadata": {},
     "output_type": "execute_result"
    }
   ],
   "source": [
    "x.shape"
   ]
  },
  {
   "cell_type": "code",
   "execution_count": 17,
   "metadata": {},
   "outputs": [
    {
     "data": {
      "text/plain": [
       "numpy.ndarray"
      ]
     },
     "execution_count": 17,
     "metadata": {},
     "output_type": "execute_result"
    }
   ],
   "source": [
    "type(x)"
   ]
  },
  {
   "cell_type": "code",
   "execution_count": 18,
   "metadata": {},
   "outputs": [
    {
     "data": {
      "text/plain": [
       "(308,)"
      ]
     },
     "execution_count": 18,
     "metadata": {},
     "output_type": "execute_result"
    }
   ],
   "source": [
    "x = np.array(x)\n",
    "x.shape"
   ]
  },
  {
   "cell_type": "code",
   "execution_count": 19,
   "metadata": {},
   "outputs": [],
   "source": [
    "new_list = []\n",
    "for i in x:\n",
    "    new_list.append(i)"
   ]
  },
  {
   "cell_type": "code",
   "execution_count": 20,
   "metadata": {},
   "outputs": [
    {
     "data": {
      "text/plain": [
       "(308, 100, 100, 3)"
      ]
     },
     "execution_count": 20,
     "metadata": {},
     "output_type": "execute_result"
    }
   ],
   "source": [
    "new_list = np.array(new_list)\n",
    "new_list.shape"
   ]
  },
  {
   "cell_type": "code",
   "execution_count": null,
   "metadata": {},
   "outputs": [],
   "source": []
  },
  {
   "cell_type": "code",
   "execution_count": 21,
   "metadata": {},
   "outputs": [],
   "source": [
    "y = df_test_over['target']"
   ]
  },
  {
   "cell_type": "code",
   "execution_count": null,
   "metadata": {},
   "outputs": [],
   "source": []
  },
  {
   "cell_type": "code",
   "execution_count": null,
   "metadata": {},
   "outputs": [],
   "source": []
  },
  {
   "cell_type": "code",
   "execution_count": null,
   "metadata": {},
   "outputs": [],
   "source": []
  },
  {
   "cell_type": "code",
   "execution_count": null,
   "metadata": {},
   "outputs": [],
   "source": []
  },
  {
   "cell_type": "code",
   "execution_count": 22,
   "metadata": {},
   "outputs": [],
   "source": [
    "from sklearn.model_selection import train_test_split\n",
    "from sklearn import datasets, linear_model\n",
    "\n",
    "x_train, x_test, y_train, y_test = train_test_split(new_list,y)"
   ]
  },
  {
   "cell_type": "code",
   "execution_count": 23,
   "metadata": {},
   "outputs": [
    {
     "name": "stdout",
     "output_type": "stream",
     "text": [
      "231\n",
      "77\n",
      "231\n",
      "77\n"
     ]
    }
   ],
   "source": [
    "print(len(x_train))\n",
    "print(len(x_test))\n",
    "print(len(y_train))\n",
    "print(len(y_test))\n",
    "\n",
    "x_train = np.array(x_train)\n",
    "x_test = np.array(x_test)\n",
    "y_train = np.array(y_train)\n",
    "y_test = np.array(y_test)"
   ]
  },
  {
   "cell_type": "code",
   "execution_count": 24,
   "metadata": {},
   "outputs": [
    {
     "data": {
      "text/plain": [
       "array([0, 1, 0, 1, 0, 0, 0, 1, 0, 0, 0, 1, 1, 0, 0, 0, 0, 1, 0, 1, 0, 1,\n",
       "       0, 0, 0, 1, 1, 0, 0, 0, 0, 1, 1, 0, 1, 1, 1, 0, 1, 1, 0, 1, 1, 0,\n",
       "       1, 0, 0, 1, 1, 0, 0, 1, 1, 1, 0, 1, 1, 1, 0, 0, 1, 1, 0, 0, 1, 1,\n",
       "       0, 0, 1, 1, 0, 0, 1, 1, 1, 0, 0, 0, 1, 0, 1, 1, 0, 1, 1, 0, 0, 1,\n",
       "       0, 0, 1, 1, 0, 1, 0, 0, 0, 0, 1, 1, 0, 0, 0, 0, 1, 0, 0, 1, 1, 1,\n",
       "       0, 1, 0, 0, 1, 0, 1, 1, 1, 1, 1, 0, 1, 1, 0, 0, 1, 1, 0, 1, 1, 1,\n",
       "       0, 0, 0, 1, 1, 1, 0, 1, 1, 0, 0, 0, 1, 0, 1, 0, 0, 0, 1, 0, 1, 1,\n",
       "       1, 1, 0, 1, 1, 0, 1, 1, 1, 0, 1, 0, 0, 0, 0, 0, 0, 1, 0, 1, 0, 1,\n",
       "       1, 0, 0, 1, 0, 1, 1, 0, 1, 1, 0, 1, 1, 1, 1, 0, 0, 1, 0, 0, 0, 1,\n",
       "       0, 1, 0, 1, 1, 1, 0, 0, 0, 1, 0, 0, 0, 1, 1, 1, 1, 1, 1, 0, 0, 1,\n",
       "       0, 1, 0, 0, 0, 1, 1, 1, 0, 1, 1])"
      ]
     },
     "execution_count": 24,
     "metadata": {},
     "output_type": "execute_result"
    }
   ],
   "source": [
    "y_train"
   ]
  },
  {
   "cell_type": "code",
   "execution_count": 23,
   "metadata": {},
   "outputs": [
    {
     "data": {
      "text/plain": [
       "(231, 288, 432, 3)"
      ]
     },
     "execution_count": 23,
     "metadata": {},
     "output_type": "execute_result"
    }
   ],
   "source": [
    "x_train.shape"
   ]
  },
  {
   "cell_type": "code",
   "execution_count": 25,
   "metadata": {},
   "outputs": [
    {
     "data": {
      "text/plain": [
       "array([1, 1, 0, 0, 0, 0, 1, 1, 0, 0, 0, 0, 1, 1, 0, 0, 1, 0, 0, 0, 1, 1,\n",
       "       1, 1, 0, 0, 0, 1, 0, 1, 1, 1, 1, 1, 1, 0, 0, 0, 0, 0, 0, 0, 1, 1,\n",
       "       0, 1, 0, 1, 1, 1, 0, 0, 1, 1, 0, 1, 1, 1, 1, 1, 0, 0, 1, 0, 1, 1,\n",
       "       0, 0, 0, 0, 0, 1, 1, 1, 0, 0, 0])"
      ]
     },
     "execution_count": 25,
     "metadata": {},
     "output_type": "execute_result"
    }
   ],
   "source": [
    "y_test"
   ]
  },
  {
   "cell_type": "code",
   "execution_count": null,
   "metadata": {},
   "outputs": [],
   "source": []
  },
  {
   "cell_type": "code",
   "execution_count": null,
   "metadata": {},
   "outputs": [],
   "source": []
  },
  {
   "cell_type": "code",
   "execution_count": 24,
   "metadata": {},
   "outputs": [],
   "source": [
    "from keras.utils import to_categorical\n",
    "\n",
    "y_train_oh = to_categorical(y_train, num_classes = 2)\n",
    "y_test_oh = to_categorical(y_test, num_classes = 2)"
   ]
  },
  {
   "cell_type": "code",
   "execution_count": 26,
   "metadata": {},
   "outputs": [
    {
     "name": "stdout",
     "output_type": "stream",
     "text": [
      "(231, 2)\n",
      "(77, 2)\n"
     ]
    }
   ],
   "source": [
    "print(y_train_oh.shape)\n",
    "print(y_test_oh.shape)"
   ]
  },
  {
   "cell_type": "code",
   "execution_count": 27,
   "metadata": {},
   "outputs": [],
   "source": [
    "import keras\n",
    "from keras.models import Sequential,Input,Model\n",
    "from keras.layers import Dense, Dropout, Flatten\n",
    "from keras.layers import Conv2D, MaxPooling2D\n",
    "from keras.layers.normalization import BatchNormalization\n",
    "from keras.layers.advanced_activations import LeakyReLU"
   ]
  },
  {
   "cell_type": "code",
   "execution_count": 28,
   "metadata": {},
   "outputs": [],
   "source": [
    "batch_size = 16\n",
    "epochs = 20\n",
    "num_classes = 2"
   ]
  },
  {
   "cell_type": "code",
   "execution_count": 29,
   "metadata": {},
   "outputs": [
    {
     "name": "stdout",
     "output_type": "stream",
     "text": [
      "WARNING:tensorflow:From C:\\Users\\new\\Anaconda3\\lib\\site-packages\\tensorflow\\python\\framework\\op_def_library.py:263: colocate_with (from tensorflow.python.framework.ops) is deprecated and will be removed in a future version.\n",
      "Instructions for updating:\n",
      "Colocations handled automatically by placer.\n",
      "_________________________________________________________________\n",
      "Layer (type)                 Output Shape              Param #   \n",
      "=================================================================\n",
      "input_1 (InputLayer)         (None, 288, 432, 3)       0         \n",
      "_________________________________________________________________\n",
      "block1_conv1 (Conv2D)        (None, 288, 432, 64)      1792      \n",
      "_________________________________________________________________\n",
      "block1_conv2 (Conv2D)        (None, 288, 432, 64)      36928     \n",
      "_________________________________________________________________\n",
      "block1_pool (MaxPooling2D)   (None, 144, 216, 64)      0         \n",
      "_________________________________________________________________\n",
      "block2_conv1 (Conv2D)        (None, 144, 216, 128)     73856     \n",
      "_________________________________________________________________\n",
      "block2_conv2 (Conv2D)        (None, 144, 216, 128)     147584    \n",
      "_________________________________________________________________\n",
      "block2_pool (MaxPooling2D)   (None, 72, 108, 128)      0         \n",
      "_________________________________________________________________\n",
      "block3_conv1 (Conv2D)        (None, 72, 108, 256)      295168    \n",
      "_________________________________________________________________\n",
      "block3_conv2 (Conv2D)        (None, 72, 108, 256)      590080    \n",
      "_________________________________________________________________\n",
      "block3_conv3 (Conv2D)        (None, 72, 108, 256)      590080    \n",
      "_________________________________________________________________\n",
      "block3_pool (MaxPooling2D)   (None, 36, 54, 256)       0         \n",
      "_________________________________________________________________\n",
      "block4_conv1 (Conv2D)        (None, 36, 54, 512)       1180160   \n",
      "_________________________________________________________________\n",
      "block4_conv2 (Conv2D)        (None, 36, 54, 512)       2359808   \n",
      "_________________________________________________________________\n",
      "block4_conv3 (Conv2D)        (None, 36, 54, 512)       2359808   \n",
      "_________________________________________________________________\n",
      "block4_pool (MaxPooling2D)   (None, 18, 27, 512)       0         \n",
      "_________________________________________________________________\n",
      "block5_conv1 (Conv2D)        (None, 18, 27, 512)       2359808   \n",
      "_________________________________________________________________\n",
      "block5_conv2 (Conv2D)        (None, 18, 27, 512)       2359808   \n",
      "_________________________________________________________________\n",
      "block5_conv3 (Conv2D)        (None, 18, 27, 512)       2359808   \n",
      "_________________________________________________________________\n",
      "block5_pool (MaxPooling2D)   (None, 9, 13, 512)        0         \n",
      "=================================================================\n",
      "Total params: 14,714,688\n",
      "Trainable params: 14,714,688\n",
      "Non-trainable params: 0\n",
      "_________________________________________________________________\n"
     ]
    }
   ],
   "source": [
    "from keras.applications import VGG16\n",
    "#Load the VGG model\n",
    "vgg_conv = VGG16(weights='imagenet', include_top=False, input_shape=(288,432,3))\n",
    "vgg_conv.summary()\n"
   ]
  },
  {
   "cell_type": "code",
   "execution_count": 30,
   "metadata": {},
   "outputs": [
    {
     "name": "stdout",
     "output_type": "stream",
     "text": [
      "<keras.engine.input_layer.InputLayer object at 0x000001E89FAE76D8> False\n",
      "<keras.layers.convolutional.Conv2D object at 0x000001E89FAE7EF0> False\n",
      "<keras.layers.convolutional.Conv2D object at 0x000001E89FA41BA8> False\n",
      "<keras.layers.pooling.MaxPooling2D object at 0x000001E8A168A6D8> False\n",
      "<keras.layers.convolutional.Conv2D object at 0x000001E89FAE79B0> False\n",
      "<keras.layers.convolutional.Conv2D object at 0x000001E896F3C358> False\n",
      "<keras.layers.pooling.MaxPooling2D object at 0x000001E896F31208> False\n",
      "<keras.layers.convolutional.Conv2D object at 0x000001E896F31320> False\n",
      "<keras.layers.convolutional.Conv2D object at 0x000001E896F4C8D0> False\n",
      "<keras.layers.convolutional.Conv2D object at 0x000001E896EF3240> False\n",
      "<keras.layers.pooling.MaxPooling2D object at 0x000001E896EBFBE0> False\n",
      "<keras.layers.convolutional.Conv2D object at 0x000001E896ECEE48> False\n",
      "<keras.layers.convolutional.Conv2D object at 0x000001E896EC74E0> False\n",
      "<keras.layers.convolutional.Conv2D object at 0x000001E896EE8390> False\n",
      "<keras.layers.pooling.MaxPooling2D object at 0x000001E896EB4BA8> False\n",
      "<keras.layers.convolutional.Conv2D object at 0x000001E896ED5F98> True\n",
      "<keras.layers.convolutional.Conv2D object at 0x000001E896E1F198> True\n",
      "<keras.layers.convolutional.Conv2D object at 0x000001E896E399B0> True\n",
      "<keras.layers.pooling.MaxPooling2D object at 0x000001E896E416A0> True\n"
     ]
    }
   ],
   "source": [
    "# Freeze the layers except the last 4 layers\n",
    "for layer in vgg_conv.layers[:-4]:\n",
    "    layer.trainable = False\n",
    " \n",
    "# Check the trainable status of the individual layers\n",
    "for layer in vgg_conv.layers:\n",
    "    print(layer, layer.trainable)"
   ]
  },
  {
   "cell_type": "code",
   "execution_count": 32,
   "metadata": {},
   "outputs": [
    {
     "name": "stdout",
     "output_type": "stream",
     "text": [
      "WARNING:tensorflow:From C:\\Users\\new\\Anaconda3\\lib\\site-packages\\keras\\backend\\tensorflow_backend.py:3445: calling dropout (from tensorflow.python.ops.nn_ops) with keep_prob is deprecated and will be removed in a future version.\n",
      "Instructions for updating:\n",
      "Please use `rate` instead of `keep_prob`. Rate should be set to `rate = 1 - keep_prob`.\n",
      "_________________________________________________________________\n",
      "Layer (type)                 Output Shape              Param #   \n",
      "=================================================================\n",
      "vgg16 (Model)                (None, 9, 13, 512)        14714688  \n",
      "_________________________________________________________________\n",
      "flatten_1 (Flatten)          (None, 59904)             0         \n",
      "_________________________________________________________________\n",
      "dense_1 (Dense)              (None, 1024)              61342720  \n",
      "_________________________________________________________________\n",
      "dropout_1 (Dropout)          (None, 1024)              0         \n",
      "_________________________________________________________________\n",
      "dense_2 (Dense)              (None, 2)                 2050      \n",
      "=================================================================\n",
      "Total params: 76,059,458\n",
      "Trainable params: 68,424,194\n",
      "Non-trainable params: 7,635,264\n",
      "_________________________________________________________________\n"
     ]
    }
   ],
   "source": [
    "from keras import models\n",
    "from keras import layers\n",
    "from keras import optimizers\n",
    " \n",
    "# Create the model\n",
    "model = models.Sequential()\n",
    " \n",
    "# Add the vgg convolutional base model\n",
    "model.add(vgg_conv)\n",
    " \n",
    "# Add new layers\n",
    "model.add(layers.Flatten())\n",
    "model.add(layers.Dense(1024, activation='relu'))\n",
    "model.add(layers.Dropout(0.5))\n",
    "model.add(layers.Dense(2, activation='softmax'))\n",
    "# Show a summary of the model. Check the number of trainable parameters\n",
    "model.summary()"
   ]
  },
  {
   "cell_type": "code",
   "execution_count": 33,
   "metadata": {},
   "outputs": [],
   "source": [
    "optimizer=optimizers.RMSprop(lr=1e-6)\n",
    "model.compile(optimizer = optimizer , loss = \"binary_crossentropy\", metrics=[\"accuracy\"])\n"
   ]
  },
  {
   "cell_type": "code",
   "execution_count": null,
   "metadata": {},
   "outputs": [
    {
     "name": "stdout",
     "output_type": "stream",
     "text": [
      "WARNING:tensorflow:From C:\\Users\\new\\Anaconda3\\lib\\site-packages\\tensorflow\\python\\ops\\math_ops.py:3066: to_int32 (from tensorflow.python.ops.math_ops) is deprecated and will be removed in a future version.\n",
      "Instructions for updating:\n",
      "Use tf.cast instead.\n",
      "Train on 231 samples, validate on 77 samples\n",
      "Epoch 1/20\n",
      " 16/231 [=>............................] - ETA: 12:50 - loss: 5.0367 - acc: 0.5625"
     ]
    }
   ],
   "source": [
    "history = model.fit(x_train, y_train_oh, batch_size=batch_size,epochs=epochs\n",
    "                            ,verbose=1,validation_data=(x_test, y_test_oh))"
   ]
  },
  {
   "cell_type": "code",
   "execution_count": 30,
   "metadata": {},
   "outputs": [
    {
     "name": "stdout",
     "output_type": "stream",
     "text": [
      "77/77 [==============================] - 2s 32ms/step\n"
     ]
    }
   ],
   "source": [
    "test_eval = model.evaluate(x_test,y_test_oh,verbose = 1)"
   ]
  },
  {
   "cell_type": "code",
   "execution_count": 31,
   "metadata": {},
   "outputs": [
    {
     "name": "stdout",
     "output_type": "stream",
     "text": [
      "Test loss: 1.10824537664\n",
      "Test accuracy: 0.81818181973\n"
     ]
    },
    {
     "data": {
      "image/png": "[encoded data removed]",
      "text/plain": [
       "<matplotlib.figure.Figure at 0x23afd1e27f0>"
      ]
     },
     "metadata": {},
     "output_type": "display_data"
    },
    {
     "data": {
      "image/png": "[encoded data removed]",
      "text/plain": [
       "<matplotlib.figure.Figure at 0x23afe227240>"
      ]
     },
     "metadata": {},
     "output_type": "display_data"
    }
   ],
   "source": [
    "print('Test loss:', test_eval[0])\n",
    "print('Test accuracy:', test_eval[1])\n",
    "accuracy = history.history['acc']\n",
    "val_accuracy = history.history['val_acc']\n",
    "loss = history.history['loss']\n",
    "val_loss = history.history['val_loss']\n",
    "epochs = range(len(accuracy))\n",
    "plt.plot(epochs, accuracy, 'bo', label='Training accuracy')\n",
    "plt.plot(epochs, val_accuracy, 'b', label='Validation accuracy')\n",
    "plt.title('Training and validation accuracy')\n",
    "plt.legend()\n",
    "plt.figure()\n",
    "plt.plot(epochs, loss, 'bo', label='Training loss')\n",
    "plt.plot(epochs, val_loss, 'b', label='Validation loss')\n",
    "plt.title('Training and validation loss')\n",
    "plt.legend()\n",
    "plt.show()\n",
    "\n"
   ]
  },
  {
   "cell_type": "code",
   "execution_count": null,
   "metadata": {},
   "outputs": [],
   "source": []
  },
  {
   "cell_type": "code",
   "execution_count": null,
   "metadata": {},
   "outputs": [],
   "source": []
  },
  {
   "cell_type": "code",
   "execution_count": null,
   "metadata": {},
   "outputs": [],
   "source": []
  },
  {
   "cell_type": "code",
   "execution_count": null,
   "metadata": {},
   "outputs": [],
   "source": []
  },
  {
   "cell_type": "code",
   "execution_count": null,
   "metadata": {},
   "outputs": [],
   "source": []
  },
  {
   "cell_type": "code",
   "execution_count": 26,
   "metadata": {},
   "outputs": [
    {
     "ename": "NameError",
     "evalue": "name 'model' is not defined",
     "output_type": "error",
     "traceback": [
      "\u001b[1;31m---------------------------------------------------------------------------\u001b[0m",
      "\u001b[1;31mNameError\u001b[0m                                 Traceback (most recent call last)",
      "\u001b[1;32m<ipython-input-26-e244e5c36671>\u001b[0m in \u001b[0;36m<module>\u001b[1;34m()\u001b[0m\n\u001b[1;32m----> 1\u001b[1;33m \u001b[0my_pred\u001b[0m \u001b[1;33m=\u001b[0m \u001b[0mmodel\u001b[0m\u001b[1;33m.\u001b[0m\u001b[0mpredict\u001b[0m\u001b[1;33m(\u001b[0m\u001b[0mx_test\u001b[0m\u001b[1;33m)\u001b[0m\u001b[1;33m\u001b[0m\u001b[0m\n\u001b[0m\u001b[0;32m      2\u001b[0m \u001b[0my_pred\u001b[0m \u001b[1;33m=\u001b[0m \u001b[0mnp\u001b[0m\u001b[1;33m.\u001b[0m\u001b[0margmax\u001b[0m\u001b[1;33m(\u001b[0m\u001b[0my_pred\u001b[0m\u001b[1;33m,\u001b[0m\u001b[0maxis\u001b[0m \u001b[1;33m=\u001b[0m \u001b[1;36m1\u001b[0m\u001b[1;33m)\u001b[0m\u001b[1;33m\u001b[0m\u001b[0m\n",
      "\u001b[1;31mNameError\u001b[0m: name 'model' is not defined"
     ]
    }
   ],
   "source": [
    "y_pred = model.predict(x_test)\n",
    "y_pred = np.argmax(y_pred,axis = 1) \n"
   ]
  },
  {
   "cell_type": "code",
   "execution_count": null,
   "metadata": {},
   "outputs": [],
   "source": []
  },
  {
   "cell_type": "code",
   "execution_count": 33,
   "metadata": {},
   "outputs": [],
   "source": [
    "from sklearn.metrics import confusion_matrix\n",
    "def plot_confusion_matrix(cm, classes,\n",
    "                          normalize=False,\n",
    "                          title='Confusion matrix',\n",
    "                          cmap=plt.cm.Blues):\n",
    "    \"\"\"\n",
    "    This function prints and plots the confusion matrix.\n",
    "    Normalization can be applied by setting `normalize=True`.\n",
    "    \"\"\"\n",
    "    plt.figure(figsize = (10,10))\n",
    "    plt.imshow(cm, interpolation='nearest', cmap=cmap)\n",
    "    plt.title(title)\n",
    "    plt.colorbar()\n",
    "    tick_marks = np.arange(len(classes))\n",
    "    plt.xticks(tick_marks, classes, rotation=90)\n",
    "    plt.yticks(tick_marks, classes)\n",
    "    if normalize:\n",
    "        cm = cm.astype('float') / cm.sum(axis=1)[:, np.newaxis]\n",
    "\n",
    "    thresh = cm.max() / 2.\n",
    "    for i, j in itertools.product(range(cm.shape[0]), range(cm.shape[1])):\n",
    "        plt.text(j, i, cm[i, j],\n",
    "                 horizontalalignment=\"center\",\n",
    "                 color=\"white\" if cm[i, j] > thresh else \"black\")\n",
    "    plt.tight_layout()\n",
    "    plt.ylabel('True label')\n",
    "    plt.xlabel('Predicted label')\n",
    "    plt.savefig('importantconfusion_matrix.png', format='png')\n",
    "    \n",
    "    \n"
   ]
  },
  {
   "cell_type": "code",
   "execution_count": 34,
   "metadata": {},
   "outputs": [
    {
     "data": {
      "image/png": "[encoded data removed]",
      "text/plain": [
       "<matplotlib.figure.Figure at 0x23a8da7feb8>"
      ]
     },
     "metadata": {},
     "output_type": "display_data"
    }
   ],
   "source": [
    "confusion_mtx = confusion_matrix(y_test, y_pred) \n",
    "dict_characters = {0: '0', 1: '1'}\n",
    "plot_confusion_matrix(confusion_mtx, classes = list(dict_characters.values())) \n"
   ]
  },
  {
   "cell_type": "code",
   "execution_count": null,
   "metadata": {},
   "outputs": [],
   "source": []
  },
  {
   "cell_type": "code",
   "execution_count": 25,
   "metadata": {},
   "outputs": [
    {
     "data": {
      "text/plain": [
       "array([[[[255, 255, 255],\n",
       "         [255, 255, 255],\n",
       "         [255, 255, 255],\n",
       "         ...,\n",
       "         [255, 255, 255],\n",
       "         [255, 255, 255],\n",
       "         [255, 255, 255]],\n",
       "\n",
       "        [[255, 255, 255],\n",
       "         [255, 255, 255],\n",
       "         [255, 255, 255],\n",
       "         ...,\n",
       "         [255, 255, 255],\n",
       "         [255, 255, 255],\n",
       "         [255, 255, 255]],\n",
       "\n",
       "        [[255, 255, 255],\n",
       "         [255, 255, 255],\n",
       "         [255, 255, 255],\n",
       "         ...,\n",
       "         [255, 255, 255],\n",
       "         [255, 255, 255],\n",
       "         [255, 255, 255]],\n",
       "\n",
       "        ...,\n",
       "\n",
       "        [[255, 255, 255],\n",
       "         [255, 255, 255],\n",
       "         [255, 255, 255],\n",
       "         ...,\n",
       "         [255, 255, 255],\n",
       "         [255, 255, 255],\n",
       "         [255, 255, 255]],\n",
       "\n",
       "        [[255, 255, 255],\n",
       "         [255, 255, 255],\n",
       "         [255, 255, 255],\n",
       "         ...,\n",
       "         [255, 255, 255],\n",
       "         [255, 255, 255],\n",
       "         [255, 255, 255]],\n",
       "\n",
       "        [[255, 255, 255],\n",
       "         [255, 255, 255],\n",
       "         [255, 255, 255],\n",
       "         ...,\n",
       "         [255, 255, 255],\n",
       "         [255, 255, 255],\n",
       "         [255, 255, 255]]],\n",
       "\n",
       "\n",
       "       [[[255, 255, 255],\n",
       "         [255, 255, 255],\n",
       "         [255, 255, 255],\n",
       "         ...,\n",
       "         [255, 255, 255],\n",
       "         [255, 255, 255],\n",
       "         [255, 255, 255]],\n",
       "\n",
       "        [[255, 255, 255],\n",
       "         [255, 255, 255],\n",
       "         [255, 255, 255],\n",
       "         ...,\n",
       "         [255, 255, 255],\n",
       "         [255, 255, 255],\n",
       "         [255, 255, 255]],\n",
       "\n",
       "        [[255, 255, 255],\n",
       "         [255, 255, 255],\n",
       "         [255, 255, 255],\n",
       "         ...,\n",
       "         [255, 255, 255],\n",
       "         [255, 255, 255],\n",
       "         [255, 255, 255]],\n",
       "\n",
       "        ...,\n",
       "\n",
       "        [[255, 255, 255],\n",
       "         [255, 255, 255],\n",
       "         [255, 255, 255],\n",
       "         ...,\n",
       "         [255, 255, 255],\n",
       "         [255, 255, 255],\n",
       "         [255, 255, 255]],\n",
       "\n",
       "        [[255, 255, 255],\n",
       "         [255, 255, 255],\n",
       "         [255, 255, 255],\n",
       "         ...,\n",
       "         [255, 255, 255],\n",
       "         [255, 255, 255],\n",
       "         [255, 255, 255]],\n",
       "\n",
       "        [[255, 255, 255],\n",
       "         [255, 255, 255],\n",
       "         [255, 255, 255],\n",
       "         ...,\n",
       "         [255, 255, 255],\n",
       "         [255, 255, 255],\n",
       "         [255, 255, 255]]],\n",
       "\n",
       "\n",
       "       [[[255, 255, 255],\n",
       "         [255, 255, 255],\n",
       "         [255, 255, 255],\n",
       "         ...,\n",
       "         [255, 255, 255],\n",
       "         [255, 255, 255],\n",
       "         [255, 255, 255]],\n",
       "\n",
       "        [[255, 255, 255],\n",
       "         [255, 255, 255],\n",
       "         [255, 255, 255],\n",
       "         ...,\n",
       "         [255, 255, 255],\n",
       "         [255, 255, 255],\n",
       "         [255, 255, 255]],\n",
       "\n",
       "        [[255, 255, 255],\n",
       "         [255, 255, 255],\n",
       "         [255, 255, 255],\n",
       "         ...,\n",
       "         [255, 255, 255],\n",
       "         [255, 255, 255],\n",
       "         [255, 255, 255]],\n",
       "\n",
       "        ...,\n",
       "\n",
       "        [[255, 255, 255],\n",
       "         [255, 255, 255],\n",
       "         [255, 255, 255],\n",
       "         ...,\n",
       "         [255, 255, 255],\n",
       "         [255, 255, 255],\n",
       "         [255, 255, 255]],\n",
       "\n",
       "        [[255, 255, 255],\n",
       "         [255, 255, 255],\n",
       "         [255, 255, 255],\n",
       "         ...,\n",
       "         [255, 255, 255],\n",
       "         [255, 255, 255],\n",
       "         [255, 255, 255]],\n",
       "\n",
       "        [[255, 255, 255],\n",
       "         [255, 255, 255],\n",
       "         [255, 255, 255],\n",
       "         ...,\n",
       "         [255, 255, 255],\n",
       "         [255, 255, 255],\n",
       "         [255, 255, 255]]],\n",
       "\n",
       "\n",
       "       ...,\n",
       "\n",
       "\n",
       "       [[[255, 255, 255],\n",
       "         [255, 255, 255],\n",
       "         [255, 255, 255],\n",
       "         ...,\n",
       "         [255, 255, 255],\n",
       "         [255, 255, 255],\n",
       "         [255, 255, 255]],\n",
       "\n",
       "        [[255, 255, 255],\n",
       "         [255, 255, 255],\n",
       "         [255, 255, 255],\n",
       "         ...,\n",
       "         [255, 255, 255],\n",
       "         [255, 255, 255],\n",
       "         [255, 255, 255]],\n",
       "\n",
       "        [[255, 255, 255],\n",
       "         [255, 255, 255],\n",
       "         [255, 255, 255],\n",
       "         ...,\n",
       "         [255, 255, 255],\n",
       "         [255, 255, 255],\n",
       "         [255, 255, 255]],\n",
       "\n",
       "        ...,\n",
       "\n",
       "        [[255, 255, 255],\n",
       "         [255, 255, 255],\n",
       "         [255, 255, 255],\n",
       "         ...,\n",
       "         [255, 255, 255],\n",
       "         [255, 255, 255],\n",
       "         [255, 255, 255]],\n",
       "\n",
       "        [[255, 255, 255],\n",
       "         [255, 255, 255],\n",
       "         [255, 255, 255],\n",
       "         ...,\n",
       "         [255, 255, 255],\n",
       "         [255, 255, 255],\n",
       "         [255, 255, 255]],\n",
       "\n",
       "        [[255, 255, 255],\n",
       "         [255, 255, 255],\n",
       "         [255, 255, 255],\n",
       "         ...,\n",
       "         [255, 255, 255],\n",
       "         [255, 255, 255],\n",
       "         [255, 255, 255]]],\n",
       "\n",
       "\n",
       "       [[[255, 255, 255],\n",
       "         [255, 255, 255],\n",
       "         [255, 255, 255],\n",
       "         ...,\n",
       "         [255, 255, 255],\n",
       "         [255, 255, 255],\n",
       "         [255, 255, 255]],\n",
       "\n",
       "        [[255, 255, 255],\n",
       "         [255, 255, 255],\n",
       "         [255, 255, 255],\n",
       "         ...,\n",
       "         [255, 255, 255],\n",
       "         [255, 255, 255],\n",
       "         [255, 255, 255]],\n",
       "\n",
       "        [[255, 255, 255],\n",
       "         [255, 255, 255],\n",
       "         [255, 255, 255],\n",
       "         ...,\n",
       "         [255, 255, 255],\n",
       "         [255, 255, 255],\n",
       "         [255, 255, 255]],\n",
       "\n",
       "        ...,\n",
       "\n",
       "        [[255, 255, 255],\n",
       "         [255, 255, 255],\n",
       "         [255, 255, 255],\n",
       "         ...,\n",
       "         [255, 255, 255],\n",
       "         [255, 255, 255],\n",
       "         [255, 255, 255]],\n",
       "\n",
       "        [[255, 255, 255],\n",
       "         [255, 255, 255],\n",
       "         [255, 255, 255],\n",
       "         ...,\n",
       "         [255, 255, 255],\n",
       "         [255, 255, 255],\n",
       "         [255, 255, 255]],\n",
       "\n",
       "        [[255, 255, 255],\n",
       "         [255, 255, 255],\n",
       "         [255, 255, 255],\n",
       "         ...,\n",
       "         [255, 255, 255],\n",
       "         [255, 255, 255],\n",
       "         [255, 255, 255]]],\n",
       "\n",
       "\n",
       "       [[[255, 255, 255],\n",
       "         [255, 255, 255],\n",
       "         [255, 255, 255],\n",
       "         ...,\n",
       "         [255, 255, 255],\n",
       "         [255, 255, 255],\n",
       "         [255, 255, 255]],\n",
       "\n",
       "        [[255, 255, 255],\n",
       "         [255, 255, 255],\n",
       "         [255, 255, 255],\n",
       "         ...,\n",
       "         [255, 255, 255],\n",
       "         [255, 255, 255],\n",
       "         [255, 255, 255]],\n",
       "\n",
       "        [[255, 255, 255],\n",
       "         [255, 255, 255],\n",
       "         [255, 255, 255],\n",
       "         ...,\n",
       "         [255, 255, 255],\n",
       "         [255, 255, 255],\n",
       "         [255, 255, 255]],\n",
       "\n",
       "        ...,\n",
       "\n",
       "        [[255, 255, 255],\n",
       "         [255, 255, 255],\n",
       "         [255, 255, 255],\n",
       "         ...,\n",
       "         [255, 255, 255],\n",
       "         [255, 255, 255],\n",
       "         [255, 255, 255]],\n",
       "\n",
       "        [[255, 255, 255],\n",
       "         [255, 255, 255],\n",
       "         [255, 255, 255],\n",
       "         ...,\n",
       "         [255, 255, 255],\n",
       "         [255, 255, 255],\n",
       "         [255, 255, 255]],\n",
       "\n",
       "        [[255, 255, 255],\n",
       "         [255, 255, 255],\n",
       "         [255, 255, 255],\n",
       "         ...,\n",
       "         [255, 255, 255],\n",
       "         [255, 255, 255],\n",
       "         [255, 255, 255]]]], dtype=uint8)"
      ]
     },
     "execution_count": 25,
     "metadata": {},
     "output_type": "execute_result"
    }
   ],
   "source": [
    "x_test"
   ]
  },
  {
   "cell_type": "code",
   "execution_count": null,
   "metadata": {},
   "outputs": [],
   "source": []
  }
 ],
 "metadata": {
  "kernelspec": {
   "display_name": "Python 3",
   "language": "python",
   "name": "python3"
  },
  "language_info": {
   "codemirror_mode": {
    "name": "ipython",
    "version": 3
   },
   "file_extension": ".py",
   "mimetype": "text/x-python",
   "name": "python",
   "nbconvert_exporter": "python",
   "pygments_lexer": "ipython3",
   "version": "3.7.1"
  }
 },
 "nbformat": 4,
 "nbformat_minor": 2
}
