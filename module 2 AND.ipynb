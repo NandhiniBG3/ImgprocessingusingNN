{
 "cells": [
  {
   "cell_type": "code",
   "execution_count": 65,
   "metadata": {},
   "outputs": [],
   "source": [
    "y_test1=[1, 1, 0, 0, 0, 0, 1, 1, 0, 0, 0, 0, 1, 1, 0, 0, 1, 0, 0, 0, 1, 1,\n",
    "       1, 1, 0, 0, 1, 1, 1, 1, 1, 1, 0 , 1, 1, 0, 1, 0, 1 ]"
   ]
  },
  {
   "cell_type": "code",
   "execution_count": 66,
   "metadata": {},
   "outputs": [],
   "source": [
    "y_test2=[[1],\n",
    "       [1],\n",
    "       [1],\n",
    "       [1],\n",
    "       [0],\n",
    "       [0],\n",
    "       [1],\n",
    "       [1],\n",
    "       [1],\n",
    "       [1],\n",
    "       [1],\n",
    "       [1],\n",
    "       [1],\n",
    "       [1],\n",
    "       [1],\n",
    "       [1],\n",
    "       [0],\n",
    "       [1],\n",
    "       [0],\n",
    "       [1],\n",
    "       [0],\n",
    "       [1],\n",
    "       [0],\n",
    "       [1],\n",
    "       [1],\n",
    "       [0],\n",
    "       [1],\n",
    "       [1],\n",
    "       [1],\n",
    "       [1],\n",
    "       [1],\n",
    "       [1],\n",
    "       [0],\n",
    "       [1],\n",
    "       [1],\n",
    "       [0],\n",
    "       [1],\n",
    "       [0],\n",
    "       [1]]"
   ]
  },
  {
   "cell_type": "code",
   "execution_count": 67,
   "metadata": {},
   "outputs": [
    {
     "data": {
      "text/plain": [
       "21"
      ]
     },
     "execution_count": 67,
     "metadata": {},
     "output_type": "execute_result"
    }
   ],
   "source": [
    "res=[]\n",
    "for i in range(len(y_test1)):\n",
    "    x=y_test1[i]\n",
    "    y=y_test2[i]\n",
    "    if x==0 or y==0:\n",
    "        res.append(0)\n",
    "    else:\n",
    "        res.append(1)\n",
    "res\n",
    "res.count(1)"
   ]
  },
  {
   "cell_type": "code",
   "execution_count": 70,
   "metadata": {},
   "outputs": [
    {
     "data": {
      "text/plain": [
       "0.9487179487179487"
      ]
     },
     "execution_count": 70,
     "metadata": {},
     "output_type": "execute_result"
    }
   ],
   "source": [
    "y_pred=[0,1,0,0,1,0,1,1,0,0,0,0,1,1,0,0,1,0,0,0,1,1,1,1,0,0,1,1,1,1,1,1,0,1,1,0,1,0,1]\n",
    "import numpy as np\n",
    "from sklearn.metrics import accuracy_score\n",
    "\n",
    "accuracy_score(y_pred, res)"
   ]
  },
  {
   "cell_type": "code",
   "execution_count": 69,
   "metadata": {},
   "outputs": [
    {
     "data": {
      "text/plain": [
       "[1,\n",
       " 1,\n",
       " 0,\n",
       " 0,\n",
       " 0,\n",
       " 0,\n",
       " 1,\n",
       " 1,\n",
       " 0,\n",
       " 0,\n",
       " 0,\n",
       " 0,\n",
       " 1,\n",
       " 1,\n",
       " 0,\n",
       " 0,\n",
       " 1,\n",
       " 0,\n",
       " 0,\n",
       " 0,\n",
       " 1,\n",
       " 1,\n",
       " 1,\n",
       " 1,\n",
       " 0,\n",
       " 0,\n",
       " 1,\n",
       " 1,\n",
       " 1,\n",
       " 1,\n",
       " 1,\n",
       " 1,\n",
       " 0,\n",
       " 1,\n",
       " 1,\n",
       " 0,\n",
       " 1,\n",
       " 0,\n",
       " 1]"
      ]
     },
     "execution_count": 69,
     "metadata": {},
     "output_type": "execute_result"
    }
   ],
   "source": [
    "res"
   ]
  },
  {
   "cell_type": "code",
   "execution_count": null,
   "metadata": {},
   "outputs": [],
   "source": []
  },
  {
   "cell_type": "code",
   "execution_count": null,
   "metadata": {},
   "outputs": [],
   "source": []
  }
 ],
 "metadata": {
  "kernelspec": {
   "display_name": "Python 3",
   "language": "python",
   "name": "python3"
  },
  "language_info": {
   "codemirror_mode": {
    "name": "ipython",
    "version": 3
   },
   "file_extension": ".py",
   "mimetype": "text/x-python",
   "name": "python",
   "nbconvert_exporter": "python",
   "pygments_lexer": "ipython3",
   "version": "3.7.1"
  }
 },
 "nbformat": 4,
 "nbformat_minor": 2
}
